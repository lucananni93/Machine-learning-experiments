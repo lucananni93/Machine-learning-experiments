{
 "cells": [
  {
   "cell_type": "markdown",
   "metadata": {},
   "source": [
    "# Factor Analysis\n",
    "\n",
    "Factor analysis is a statistical method used to describe variability among observed, correlated variables in terms of a potentially lower number of unobserved variables called **factors**. [...] The observed variables are modelled as linear combinations of the potential factors, plus \"error\" terms. Factor analysis aims to find independent latent variables. (<cite>Wikipedia</cite>)\n",
    "\n",
    "## Theory\n",
    "\n",
    "### Statistical model\n",
    "Suppose to have a set of $p$ *observable* random variables $x_1, ..., x_p$ having repectively means $\\mu_1, ..., \\mu_p$.\n",
    "\n",
    "Suppose also to have a set of unknown constants $l_{ij}$ and $k$ *unobserved* random variables $F_j$, with $i \\in 1, ..., p$, $j \\in 1, ..., k$ and $k < p$ such that\n",
    "$$\n",
    "x_i - \\mu_i = l_{i1}F_1 + ... + l_{ik}F_k + \\epsilon_i\n",
    "$$\n",
    "where $\\epsilon_i$ is an unobserved stochastic error term with zero mean and finite variance (can be different for every $i$).\n",
    "\n",
    "In matricial terms\n",
    "$$\n",
    "x_{p\\times n} - \\mu = L_{p\\times k}F_{k\\times n} + \\epsilon\n",
    "$$\n",
    "\n",
    "The $F_j$ are called **common factors**. Notice that matrix $L$ does not vary across observations and is called **loading matrix**.\n",
    "\n",
    "We impose the following assumptions:\n",
    "1. $F$ and $\\epsilon$ are independent\n",
    "2. $E(F) = 0$: the expected value of factors is zero\n",
    "3. $Cov(F) = I$: the covariance matrix of factors is the identity. This implies that factors are uncorrelated.\n",
    "\n",
    "From these conditions we can see that\n",
    "$$\n",
    "Cov(x -\\mu) = Cov(LF + \\epsilon) = LCov(F)L^T + Cov(\\epsilon) = LL^T + \\Psi\n",
    "$$\n",
    "\n",
    "### Learning $L$ and $\\Psi$"
   ]
  },
  {
   "cell_type": "code",
   "execution_count": null,
   "metadata": {},
   "outputs": [],
   "source": []
  }
 ],
 "metadata": {
  "kernelspec": {
   "display_name": "Python (ML)",
   "language": "python",
   "name": "ml"
  },
  "language_info": {
   "codemirror_mode": {
    "name": "ipython",
    "version": 3
   },
   "file_extension": ".py",
   "mimetype": "text/x-python",
   "name": "python",
   "nbconvert_exporter": "python",
   "pygments_lexer": "ipython3",
   "version": "3.6.3"
  }
 },
 "nbformat": 4,
 "nbformat_minor": 2
}
