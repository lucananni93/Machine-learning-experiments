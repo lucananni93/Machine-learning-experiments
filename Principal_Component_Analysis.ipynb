{
 "cells": [
  {
   "cell_type": "markdown",
   "metadata": {},
   "source": [
    "# Principal Component Analysis"
   ]
  },
  {
   "cell_type": "code",
   "execution_count": 25,
   "metadata": {},
   "outputs": [],
   "source": [
    "from sklearn.datasets import load_breast_cancer\n",
    "import numpy as np\n",
    "\n",
    "import matplotlib.pyplot as plt\n",
    "import seaborn as sns"
   ]
  },
  {
   "cell_type": "markdown",
   "metadata": {},
   "source": [
    "## The dataset\n",
    "For this project we will use some numerical data about breast tumors collected by clinicians. The dataset can be directly downloaded and accessed through `sklearn`with the following commands"
   ]
  },
  {
   "cell_type": "code",
   "execution_count": 22,
   "metadata": {},
   "outputs": [
    {
     "data": {
      "text/plain": [
       "(569, 30)"
      ]
     },
     "execution_count": 22,
     "metadata": {},
     "output_type": "execute_result"
    }
   ],
   "source": [
    "breast_cancer_data = load_breast_cancer()\n",
    "X = breast_cancer_data['data']\n",
    "Y = breast_cancer_data['target']\n",
    "X.shape"
   ]
  },
  {
   "cell_type": "markdown",
   "metadata": {},
   "source": [
    "We would like to reduce the number of features of the dataset to 2 principal components in order to plot the dataset in a 2d plot and visualize the classes in a comprehensive way."
   ]
  },
  {
   "cell_type": "markdown",
   "metadata": {},
   "source": [
    "## Theory of PCA\n",
    "\n",
    "### Definition\n",
    "Principal component analysis (PCA) is a statistical procedure that uses an **orthogonal transformation** to convert a set of observations of possibly correlated variables [...] into a set of values of linearly **uncorrelated variables** called principal components. [...]  This transformation is defined in such a way that the first principal component has the largest possible variance (that is, accounts for as much of the variability in the data as possible), and each succeeding component in turn has the highest variance possible under the constraint that it is orthogonal to the preceding components. (<cite>Wikipedia</cite>)\n",
    "\n",
    "### Mean-centering the data\n",
    "Suppose to have a $d$-dimensional dataset $\\mathbf{X}$ composed of $n$ samples. We firstly center the data points around the mean of the features $\\mu$, calculated as follows:\n",
    "\n",
    "$$\n",
    "\\mu = \\frac{1}{n} \\sum_{i=1}^n x_i\n",
    "= (\\frac{1}{n} \\sum_{i=1}^n x_{i1}, \\ldots, \\frac{1}{n} \\sum_{i=1}^n x_{id} )^T\n",
    "$$\n",
    "\n",
    "The centered dataset is now\n",
    "$$\n",
    "X =  \\left(\n",
    "    \\begin{array}{ccccc}\n",
    "        && x_1^T - \\mu^T && \\\\\n",
    "        \\hline\n",
    "        && x_2^T - \\mu^T && \\\\\n",
    "        \\hline\n",
    "        && \\vdots && \\\\\n",
    "        \\hline\n",
    "        && x_n^T - \\mu^T &&\n",
    "    \\end{array}\n",
    "\\right)\\,.\n",
    "$$\n",
    "\n",
    "### The covariance matrix\n",
    "Since the dataset is now mean-centered, we can write the sample covariance of the dataset as follows:\n",
    "$$\n",
    "S_{m \\times m} = \\frac{1}{n-1} \\sum_{i=1}^n (x_i-\\mu)(x_i-\\mu)^T = \\frac{1}{n-1} X^T X\n",
    "$$\n",
    "\n",
    "### Principal components\n",
    "The goal of PCA is to find a collection of $k \\leq d$ unit vectors $v_i \\in \\mathbb{R}^d$ called *princial components* such that:\n",
    "1. the variance of the dataset projected onto the direction determined by $v_i$ is maximized and\n",
    "2. $v_i$ is chosen to be orthogonal to $v_1, ..., v_{i-1}$\n",
    "\n",
    "Since the projection of a vector $x \\in \\mathbb{R}^d$ on $v_i$ is simply $v_i^Tx$, the variance of the projected dataset onto $v_i$ is\n",
    "$$\n",
    "\\frac{1}{n-1}\\sum_{j=1}^{n}(v_i^Tx_j-v_i^T\\mu)^2 = v_i^TSv_i.\n",
    "$$\n",
    "\n",
    "In order to *maximize* this quantity, with the additional constraint of $||v_i|| = 1$, we can use the method of Lagrange multipliers, leading to \n",
    "$$\n",
    "\\text{maximize}\\{v_i^TSv_i - \\lambda(v_i^Tv_i - 1)\\}\n",
    "$$\n",
    "\n",
    "This is solved by solving the following equation\n",
    "$$\n",
    "Sv_i = \\lambda_iv_i\n",
    "$$\n",
    "\n",
    "### Eigen-value decomposition\n",
    "This simply means that $v_i$ is an **eigen-vector** of the covariance matrix $S$ and since $||v_i|| = 1$ we also conclude that $\\lambda_i$ is equal to the variance of the dataset along $v_i$.\n",
    "\n",
    "We can do this operation for all the rest of eigen-vectors obtaining the eigen-vector matrix $\\mathbf{V}_{d \\times d}$\n",
    "\n",
    "The transformed dataset will be\n",
    "$$\n",
    "\\mathbf{X_t} = \\mathbf{X}\\mathbf{V}\n",
    "$$"
   ]
  },
  {
   "cell_type": "code",
   "execution_count": 70,
   "metadata": {},
   "outputs": [],
   "source": [
    "feature_means = np.mean(X, axis = 0)\n",
    "mean_centered_X = X - feature_means[np.newaxis]\n",
    "covariance_matrix = np.cov(mean_centered_X.T)"
   ]
  },
  {
   "cell_type": "code",
   "execution_count": 71,
   "metadata": {},
   "outputs": [],
   "source": [
    "eigen_values, eigen_vectors = np.linalg.eig(covariance_matrix)"
   ]
  },
  {
   "cell_type": "code",
   "execution_count": 72,
   "metadata": {},
   "outputs": [],
   "source": [
    "X_t = mean_centered_X.dot(eigen_vectors)"
   ]
  },
  {
   "cell_type": "code",
   "execution_count": 73,
   "metadata": {},
   "outputs": [
    {
     "data": {
      "image/png": "[encoded data removed]",
      "text/plain": [
       "<matplotlib.figure.Figure at 0x1e6f987eb00>"
      ]
     },
     "metadata": {},
     "output_type": "display_data"
    }
   ],
   "source": [
    "plt.figure()\n",
    "plt.scatter(X_t[:, 0], X_t[:, 1], c=Y)\n",
    "plt.show()"
   ]
  }
 ],
 "metadata": {
  "kernelspec": {
   "display_name": "Python (ML)",
   "language": "python",
   "name": "ml"
  },
  "language_info": {
   "codemirror_mode": {
    "name": "ipython",
    "version": 3
   },
   "file_extension": ".py",
   "mimetype": "text/x-python",
   "name": "python",
   "nbconvert_exporter": "python",
   "pygments_lexer": "ipython3",
   "version": "3.6.3"
  }
 },
 "nbformat": 4,
 "nbformat_minor": 2
}
